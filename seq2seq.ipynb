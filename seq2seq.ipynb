{
 "cells": [
  {
   "cell_type": "code",
   "execution_count": 25,
   "id": "protected-contrary",
   "metadata": {},
   "outputs": [],
   "source": [
    "import torch\n",
    "import torch.nn as nn\n",
    "import random\n",
    "import matplotlib.pyplot as plt"
   ]
  },
  {
   "cell_type": "code",
   "execution_count": 26,
   "id": "cheap-template",
   "metadata": {},
   "outputs": [],
   "source": [
    "vocab_size = 256\n",
    "x_ = list(map(ord,\"hello\"))\n",
    "y_ = list(map(ord,\"hola\"))"
   ]
  },
  {
   "cell_type": "code",
   "execution_count": 27,
   "id": "945ba0b1",
   "metadata": {},
   "outputs": [],
   "source": [
    "x = torch.LongTensor(x_)\n",
    "y = torch.LongTensor(y_)"
   ]
  },
  {
   "cell_type": "code",
   "execution_count": 31,
   "id": "422c4a67",
   "metadata": {},
   "outputs": [],
   "source": [
    "class Seq2Seq(nn.Module):\n",
    "    def __init__(self, vocab_size, hidden_size):\n",
    "        super(Seq2Seq, self).__init__()\n",
    "        self.n_layers = 1\n",
    "        self.hidden_size = hidden_size\n",
    "        self.embedding = nn.Embedding(vocab_size, hidden_size)\n",
    "        self.encoder = nn.GRU(hidden_size, hidden_size)\n",
    "        self.decoder = nn.GRU(hidden_size, hidden_size)\n",
    "        self.project = nn.Linear(hidden_size, vocab_size)\n",
    "    \n",
    "    def forward(self, inputs, targets):\n",
    "        initial_state = self._init_state()\n",
    "        embedding = self.embedding(inputs).unsqueeze(1)\n",
    "        encoder_output, encoder_state = self.encoder(embedding, initial_state)\n",
    "        decoder_state = encoder_state\n",
    "        decoder_input = torch.LongTensor([0])\n",
    "        \n",
    "        outputs = []\n",
    "        for i in range(targets.size()[0]):\n",
    "            decoder_input = self.embedding(decoder_input).unsqueeze(1)\n",
    "            decoder_output, decoder_state = self.decoder(decoder_input, decoder_state)\n",
    "            \n",
    "            projection = self.project(decoder_output)\n",
    "            outputs.append(projection)\n",
    "            decoder_input = torch.LongTensor([targets[i]])\n",
    "        outputs = torch.stack(outputs).squeeze()\n",
    "        return outputs\n",
    "    def _init_state(self, batch_size=1):\n",
    "        weight = next(self.parameters()).data\n",
    "        return weight.new(self.n_layers, batch_size, self.hidden_size).zero_()"
   ]
  },
  {
   "cell_type": "code",
   "execution_count": 32,
   "id": "294e924b",
   "metadata": {},
   "outputs": [],
   "source": [
    "seq2seq = Seq2Seq(vocab_size, 16)\n",
    "criterion = nn.CrossEntropyLoss()\n",
    "optimizer = torch.optim.Adam(seq2seq.parameters(), lr=1e-3)"
   ]
  },
  {
   "cell_type": "code",
   "execution_count": 33,
   "id": "12b5b2fa",
   "metadata": {},
   "outputs": [
    {
     "name": "stdout",
     "output_type": "stream",
     "text": [
      "반복 : %d, 오차 : %s 0 5.624380588531494\n",
      "['®', '\\x00', '§', 'Ò']\n",
      "반복 : %d, 오차 : %s 100 2.0791501998901367\n",
      "['h', 'a', 'a', 'a']\n",
      "반복 : %d, 오차 : %s 200 1.0187588930130005\n",
      "['h', 'o', 'l', 'a']\n",
      "반복 : %d, 오차 : %s 300 0.5358240604400635\n",
      "['h', 'o', 'l', 'a']\n",
      "반복 : %d, 오차 : %s 400 0.3044312298297882\n",
      "['h', 'o', 'l', 'a']\n",
      "반복 : %d, 오차 : %s 500 0.20887190103530884\n",
      "['h', 'o', 'l', 'a']\n",
      "반복 : %d, 오차 : %s 600 0.1553737372159958\n",
      "['h', 'o', 'l', 'a']\n",
      "반복 : %d, 오차 : %s 700 0.12098316848278046\n",
      "['h', 'o', 'l', 'a']\n",
      "반복 : %d, 오차 : %s 800 0.09549058973789215\n",
      "['h', 'o', 'l', 'a']\n",
      "반복 : %d, 오차 : %s 900 0.06996921449899673\n",
      "['h', 'o', 'l', 'a']\n"
     ]
    }
   ],
   "source": [
    "log = []\n",
    "for i in range(1000):\n",
    "    prediction = seq2seq(x, y)\n",
    "    loss = criterion(prediction, y)\n",
    "    optimizer.zero_grad()\n",
    "    loss.backward()\n",
    "    optimizer.step()\n",
    "    loss_val = loss.data\n",
    "    log.append(loss_val)\n",
    "    if i%100 == 0:\n",
    "        print(\"반복 : %d, 오차 : %s\", i, loss_val.item())\n",
    "        _, top1 = prediction.data.topk(1,1)\n",
    "        print([chr(c) for c in top1.squeeze().numpy().tolist()])"
   ]
  },
  {
   "cell_type": "code",
   "execution_count": 34,
   "id": "e7cef60b",
   "metadata": {},
   "outputs": [
    {
     "data": {
      "image/png": "[encoded data removed]",
      "text/plain": [
       "<Figure size 432x288 with 1 Axes>"
      ]
     },
     "metadata": {
      "needs_background": "light"
     },
     "output_type": "display_data"
    }
   ],
   "source": [
    "plt.plot(log)\n",
    "plt.ylabel('cross entropy loss')\n",
    "plt.show()"
   ]
  },
  {
   "cell_type": "code",
   "execution_count": null,
   "id": "d38ff3ac",
   "metadata": {},
   "outputs": [],
   "source": []
  }
 ],
 "metadata": {
  "kernelspec": {
   "display_name": "Python 3",
   "language": "python",
   "name": "python3"
  },
  "language_info": {
   "codemirror_mode": {
    "name": "ipython",
    "version": 3
   },
   "file_extension": ".py",
   "mimetype": "text/x-python",
   "name": "python",
   "nbconvert_exporter": "python",
   "pygments_lexer": "ipython3",
   "version": "3.7.9"
  }
 },
 "nbformat": 4,
 "nbformat_minor": 5
}
