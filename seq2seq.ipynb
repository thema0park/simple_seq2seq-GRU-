{
 "cells": [
  {
   "cell_type": "code",
   "execution_count": 51,
   "id": "protected-contrary",
   "metadata": {},
   "outputs": [],
   "source": [
    "import torch\n",
    "import torch.nn as nn\n",
    "import random\n",
    "import matplotlib.pyplot as plt"
   ]
  },
  {
   "cell_type": "code",
   "execution_count": 52,
   "id": "cheap-template",
   "metadata": {},
   "outputs": [],
   "source": [
    "vocab_size = 256\n",
    "x_ = list(map(ord,\"hello\"))\n",
    "y_ = list(map(ord,\"hola\"))"
   ]
  },
  {
   "cell_type": "code",
   "execution_count": 53,
   "id": "1237ee03",
   "metadata": {},
   "outputs": [
    {
     "name": "stdout",
     "output_type": "stream",
     "text": [
      "tensor([104, 101, 108, 108, 111])\n",
      "tensor([104, 111, 108,  97])\n"
     ]
    }
   ],
   "source": [
    "x = torch.LongTensor(x_)\n",
    "print(x)\n",
    "y = torch.LongTensor(y_)\n",
    "print(y)"
   ]
  },
  {
   "cell_type": "code",
   "execution_count": 54,
   "id": "08235c89",
   "metadata": {},
   "outputs": [],
   "source": [
    "class Seq2Seq(nn.Module):\n",
    "    def __init__(self, vocab_size, hidden_size):\n",
    "        super(Seq2Seq, self).__init__()\n",
    "        self.n_layers = 1\n",
    "        self.hidden_size = hidden_size\n",
    "        self.embedding = nn.Embedding(vocab_size, hidden_size)\n",
    "        self.encoder = nn.GRU(hidden_size, hidden_size)\n",
    "        self.decoder = nn.GRU(hidden_size, hidden_size) \n",
    "        self.project = nn.Linear(hidden_size, vocab_size) # 디코더가 번역문의 다음 토큰을 예상해내는 작은 신경망\n",
    "    \n",
    "    def forward(self, inputs, targets):\n",
    "        initial_state = self._init_state()\n",
    "        embedding = self.embedding(inputs).unsqueeze(1)\n",
    "        encoder_output, encoder_state = self.encoder(embedding, initial_state)\n",
    "        decoder_state = encoder_state\n",
    "        decoder_input = torch.LongTensor([0]) # 문장 시작 토큰 추가\n",
    "        \n",
    "        outputs = []\n",
    "        for i in range(targets.size()[0]):\n",
    "            decoder_input = self.embedding(decoder_input).unsqueeze(1) \n",
    "            decoder_output, decoder_state = self.decoder(decoder_input, decoder_state) # 디코더는 시작토큰과 문맥 벡터를 동시에 입력받는다.\n",
    "            \n",
    "            projection = self.project(decoder_output) \n",
    "            outputs.append(projection) # 디코더가 예측한 결과가 outputs에 저장된다.\n",
    "            decoder_input = torch.LongTensor([targets[i]]) # 티처 포싱을 사용해 디코더 학습 시 \n",
    "                                                           #실제 번역문의 토큰을 디코더의 전 출력값 대신 입력으로 사용한다.\n",
    "                                                           # why use teacher forcing? \n",
    "                                                           # 우리가 만든 모델은 충분한 데이터로 학습이 이루어지지 않았기 때문에 잘못된 예측 토큰을 입력으로 사용할 확률이 높다.\n",
    "                                                           # 이런 상황이 반복되면 학습이 매우 더뎌지기 때문에 teacher forcing을 사용해 학습 속도를 개선한다.\n",
    "        outputs = torch.stack(outputs).squeeze()\n",
    "        return outputs\n",
    "    def _init_state(self, batch_size=1):\n",
    "        weight = next(self.parameters()).data\n",
    "        return weight.new(self.n_layers, batch_size, self.hidden_size).zero_()"
   ]
  },
  {
   "cell_type": "code",
   "execution_count": 55,
   "id": "b2f70c5b",
   "metadata": {},
   "outputs": [],
   "source": [
    "seq2seq = Seq2Seq(vocab_size, 16)\n",
    "criterion = nn.CrossEntropyLoss()\n",
    "optimizer = torch.optim.Adam(seq2seq.parameters(), lr=1e-3)"
   ]
  },
  {
   "cell_type": "code",
   "execution_count": 56,
   "id": "01bf3095",
   "metadata": {},
   "outputs": [
    {
     "name": "stdout",
     "output_type": "stream",
     "text": [
      "반복 : 0, 오차 : 5.784719467163086\n",
      "['°', 'O', 'Î', '¡']\n",
      "반복 : 100, 오차 : 2.17873477935791\n",
      "['h', 'o', 'l', 'a']\n",
      "반복 : 200, 오차 : 0.6377769708633423\n",
      "['h', 'o', 'l', 'a']\n",
      "반복 : 300, 오차 : 0.35658738017082214\n",
      "['h', 'o', 'l', 'a']\n",
      "반복 : 400, 오차 : 0.2442733496427536\n",
      "['h', 'o', 'l', 'a']\n",
      "반복 : 500, 오차 : 0.1831926554441452\n",
      "['h', 'o', 'l', 'a']\n",
      "반복 : 600, 오차 : 0.14374445378780365\n",
      "['h', 'o', 'l', 'a']\n",
      "반복 : 700, 오차 : 0.11612489819526672\n",
      "['h', 'o', 'l', 'a']\n",
      "반복 : 800, 오차 : 0.09538891911506653\n",
      "['h', 'o', 'l', 'a']\n",
      "반복 : 900, 오차 : 0.07282198965549469\n",
      "['h', 'o', 'l', 'a']\n"
     ]
    }
   ],
   "source": [
    "log = []\n",
    "for i in range(1000):\n",
    "    prediction = seq2seq(x, y)\n",
    "    loss = criterion(prediction, y)\n",
    "    optimizer.zero_grad()\n",
    "    loss.backward()\n",
    "    optimizer.step()\n",
    "    loss_val = loss.data\n",
    "    log.append(loss_val)\n",
    "    if i%100 == 0:\n",
    "        print(f\"반복 : {i}, 오차 : {loss_val.item()}\")\n",
    "        _, top1 = prediction.data.topk(1,1)\n",
    "        print([chr(c) for c in top1.squeeze().numpy().tolist()])"
   ]
  },
  {
   "cell_type": "code",
   "execution_count": 57,
   "id": "ba0f4846",
   "metadata": {},
   "outputs": [
    {
     "data": {
      "image/png": "[encoded data removed]",
      "text/plain": [
       "<Figure size 432x288 with 1 Axes>"
      ]
     },
     "metadata": {
      "needs_background": "light"
     },
     "output_type": "display_data"
    }
   ],
   "source": [
    "plt.plot(log)\n",
    "plt.ylabel('cross entropy loss')\n",
    "plt.show()"
   ]
  },
  {
   "cell_type": "code",
   "execution_count": null,
   "id": "4980c2fd",
   "metadata": {},
   "outputs": [],
   "source": []
  }
 ],
 "metadata": {
  "kernelspec": {
   "display_name": "Python 3",
   "language": "python",
   "name": "python3"
  },
  "language_info": {
   "codemirror_mode": {
    "name": "ipython",
    "version": 3
   },
   "file_extension": ".py",
   "mimetype": "text/x-python",
   "name": "python",
   "nbconvert_exporter": "python",
   "pygments_lexer": "ipython3",
   "version": "3.7.9"
  }
 },
 "nbformat": 4,
 "nbformat_minor": 5
}
